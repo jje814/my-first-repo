{
 "cells": [
  {
   "cell_type": "code",
   "execution_count": 2,
   "id": "f7183065-e016-46c6-b976-606d095d289c",
   "metadata": {},
   "outputs": [
    {
     "name": "stdout",
     "output_type": "stream",
     "text": [
      "My first notebook\n"
     ]
    }
   ],
   "source": [
    "print('My first notebook')"
   ]
  },
  {
   "cell_type": "code",
   "execution_count": null,
   "id": "f35a6a6d-03ff-4380-8063-4f3a9d1ec700",
   "metadata": {},
   "outputs": [],
   "source": []
  }
 ],
 "metadata": {
  "kernelspec": {
   "display_name": "Python [conda env:base] *",
   "language": "python",
   "name": "conda-base-py"
  },
  "language_info": {
   "codemirror_mode": {
    "name": "ipython",
    "version": 3
   },
   "file_extension": ".py",
   "mimetype": "text/x-python",
   "name": "python",
   "nbconvert_exporter": "python",
   "pygments_lexer": "ipython3",
   "version": "3.12.7"
  }
 },
 "nbformat": 4,
 "nbformat_minor": 5
}
